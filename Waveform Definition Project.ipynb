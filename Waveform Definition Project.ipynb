{
 "cells": [
  {
   "cell_type": "code",
   "execution_count": 1,
   "id": "ce39b1a2",
   "metadata": {},
   "outputs": [],
   "source": [
    "import speech_recognition as sr\n",
    "from nltk.tokenize import word_tokenize\n",
    "import requests\n",
    "from bs4 import BeautifulSoup\n",
    "import numpy as np\n",
    "import matplotlib.pyplot as plt\n",
    "import sounddevice as sd\n",
    "import tkinter as tk\n",
    "from matplotlib.backends.backend_tkagg import FigureCanvasTkAgg"
   ]
  },
  {
   "cell_type": "markdown",
   "id": "522f0fc6",
   "metadata": {},
   "source": [
    "Speech Recognition"
   ]
  },
  {
   "cell_type": "code",
   "execution_count": 2,
   "id": "02c938a0",
   "metadata": {},
   "outputs": [
    {
     "name": "stdout",
     "output_type": "stream",
     "text": [
      "Speak something...\n",
      "You said: sine wave 100 words\n"
     ]
    }
   ],
   "source": [
    "r = sr.Recognizer()\n",
    "\n",
    "def recognize_speech():\n",
    "    with sr.Microphone() as source:\n",
    "        print(\"Speak something...\")\n",
    "        audio = r.listen(source)\n",
    "\n",
    "        try:\n",
    "            text = r.recognize_google(audio)\n",
    "            print(\"You said:\", text)\n",
    "            \n",
    "            tokens = word_tokenize(text)\n",
    "            #print(\"Tokens:\", tokens)\n",
    "            \n",
    "        except sr.UnknownValueError:\n",
    "            print(\"Sorry, I could not understand your speech.\")\n",
    "        except sr.RequestError as e:\n",
    "            print(\"Error occurred; {0}\".format(e))\n",
    "        \n",
    "    return tokens\n",
    "\n",
    "tokens = recognize_speech()"
   ]
  },
  {
   "cell_type": "markdown",
   "id": "0efa0441",
   "metadata": {},
   "source": [
    "Generating our query"
   ]
  },
  {
   "cell_type": "code",
   "execution_count": 3,
   "id": "e3548266",
   "metadata": {},
   "outputs": [
    {
     "name": "stdout",
     "output_type": "stream",
     "text": [
      "https://en.wikipedia.org/wiki/Sine_wave\n"
     ]
    }
   ],
   "source": [
    "#print(tokens[:-2])\n",
    "\n",
    "query = '_'.join(tokens[:-2])\n",
    "query1 = query.capitalize()\n",
    "web_url = \"https://en.wikipedia.org/wiki/\"+query1\n",
    "\n",
    "print(web_url)"
   ]
  },
  {
   "cell_type": "markdown",
   "id": "1b591d87",
   "metadata": {},
   "source": [
    "Scraper Function"
   ]
  },
  {
   "cell_type": "code",
   "execution_count": 4,
   "id": "b9f28abc",
   "metadata": {},
   "outputs": [],
   "source": [
    "def scrape_website(web_url):\n",
    "    req_results = requests.get(web_url)\n",
    "    wiki_page = BeautifulSoup(req_results.text, \"html.parser\")\n",
    "    #print(wiki_page.prettify())\n",
    "    \n",
    "    if req_results.status_code == 200:\n",
    "        para = wiki_page.find(\"p\").get_text()\n",
    "        print(para)\n",
    "        return para\n",
    "    \n",
    "    else:\n",
    "        print(\"Error 404\")"
   ]
  },
  {
   "cell_type": "markdown",
   "id": "a075ab88",
   "metadata": {},
   "source": [
    "Sample Rate Extraction"
   ]
  },
  {
   "cell_type": "code",
   "execution_count": 5,
   "id": "5dd0e4b6",
   "metadata": {},
   "outputs": [],
   "source": [
    "sample_rate = tokens[2]"
   ]
  },
  {
   "cell_type": "markdown",
   "id": "c4027373",
   "metadata": {},
   "source": [
    "Wave Generation Functions"
   ]
  },
  {
   "cell_type": "code",
   "execution_count": 6,
   "id": "5a1b6963",
   "metadata": {},
   "outputs": [],
   "source": [
    "def sine_wave(sample):\n",
    "    sample_rate = sample # Hz\n",
    "    duration = 1.0  # seconds\n",
    "    t = np.linspace(0, duration, int(sample_rate * duration), endpoint=False)\n",
    "\n",
    "# Generate the sine wave\n",
    "    frequency = 2 # Hz\n",
    "    amplitude = 1.0\n",
    "    sine_wave = amplitude * np.sin(2 * np.pi * frequency * t)\n",
    "    \n",
    "    fig = plt.figure(figsize=(6, 4))\n",
    "    plt.plot(t, sine_wave)\n",
    "    plt.xlabel('Time (s)')\n",
    "    plt.ylabel('Amplitude')\n",
    "    plt.title(f'Sine Wave at {sample_rate} Hz Sampling')\n",
    "\n",
    "    zoom_start = 0  # seconds\n",
    "    zoom_end = 1  # seconds\n",
    "    plt.xlim(zoom_start, zoom_end)\n",
    "    plt.ylim(-2, 2)\n",
    "    #plt.grid(True, which='both')\n",
    "    plt.axhline(y=0, color='k')\n",
    "    #plt.show()\n",
    "    \n",
    "    return fig\n",
    "    \n",
    "def square_wave(sample):\n",
    "    sample_rate = sample  # Hz\n",
    "    duration = 1.0  # seconds\n",
    "    t = np.linspace(0, duration, int(sample_rate * duration), endpoint=False)\n",
    "\n",
    "# Generate the square wave\n",
    "    frequency = 3  # Hz\n",
    "    amplitude = 1\n",
    "    duty_cycle = 0.1  # Percentage of each period that the signal is \"on\"\n",
    "    square_wave = amplitude * np.sign(np.sin(2 * np.pi * frequency * t) - duty_cycle)\n",
    "\n",
    "# Plot the square wave\n",
    "    fig = plt.figure(figsize=(6, 4))\n",
    "    plt.plot(t, square_wave)\n",
    "    plt.xlabel('Time (s)')\n",
    "    plt.ylabel('Amplitude')\n",
    "    plt.title(f'Square Wave at {sample} Hz Sampling')\n",
    "    plt.axhline(y=0, color='k')\n",
    "    plt.ylim(-2, 2)\n",
    "    #plt.show()\n",
    "    \n",
    "    return fig\n",
    "\n",
    "def triangle_wave(sample):\n",
    "    sample_rate = 44100  # Hz\n",
    "    duration = 1.0  # seconds\n",
    "    t = np.linspace(0, duration, int(sample_rate * duration), endpoint=False)\n",
    "\n",
    "# Generate the triangle wave\n",
    "    frequency = 4  # Hz\n",
    "    amplitude = 1\n",
    "    triangle_wave = amplitude * np.abs(np.mod(t * frequency, 1) - 0.5) * 4 - 1.0\n",
    "\n",
    "# Plot the triangle wave\n",
    "    fig = plt.figure(figsize=(6, 4))\n",
    "    plt.plot(t, triangle_wave)\n",
    "    plt.xlabel('Time (s)')\n",
    "    plt.ylabel('Amplitude')\n",
    "    plt.title(f'Triangle Wave at {sample} Hz Sampling')\n",
    "    plt.axhline(y=0, color='k')\n",
    "    plt.ylim(-2, 2)\n",
    "    #plt.show()\n",
    "    \n",
    "    return fig\n",
    "\n",
    "def saw_wave(sample):\n",
    "    sample_rate = 44100  # Hz\n",
    "    duration = 1.0  # seconds\n",
    "    t = np.linspace(0, duration, int(sample_rate * duration), endpoint=False)\n",
    "\n",
    "# Generate the sawtooth wave\n",
    "    frequency = 5  # Hz\n",
    "    amplitude = 1\n",
    "    sawtooth_wave = amplitude * (2 * (np.mod(t * frequency, 1) - 0.5))\n",
    "\n",
    "# Plot the sawtooth wave\n",
    "    fig = plt.figure(figsize=(6, 4))\n",
    "    plt.plot(t, sawtooth_wave)\n",
    "    plt.xlabel('Time (s)')\n",
    "    plt.ylabel('Amplitude')\n",
    "    plt.title(f'Sawtooth Wave at {sample} Hz Sampling')\n",
    "    plt.axhline(y=0, color='k')\n",
    "    plt.ylim(-2, 2)\n",
    "    #plt.show()\n",
    "    \n",
    "    return fig"
   ]
  },
  {
   "cell_type": "markdown",
   "id": "47ea65f1",
   "metadata": {},
   "source": [
    "Output Function"
   ]
  },
  {
   "cell_type": "code",
   "execution_count": 7,
   "id": "6a4e175c",
   "metadata": {},
   "outputs": [],
   "source": [
    "def output(tokens,web_url,sample_rate):\n",
    "    \n",
    "    if tokens[0] == 'sine':\n",
    "        return sine_wave(int(sample_rate))\n",
    "        #scrape_website(web_url), sine_wave(int(sample_rate))\n",
    "    elif tokens[0] == 'square':\n",
    "        return square_wave(int(sample_rate))\n",
    "        #scrape_website(web_url), square_wave(int(sample_rate))\n",
    "    elif tokens[0] == 'triangle':\n",
    "        return triangle_wave(int(sample_rate))\n",
    "        #scrape_website(web_url), triangle_wave(int(sample_rate))\n",
    "    elif tokens[0] == 'sawtooth':\n",
    "        return saw_wave(int(sample_rate))\n",
    "        #scrape_website(web_url), saw_wave(int(sample_rate))"
   ]
  },
  {
   "cell_type": "code",
   "execution_count": 8,
   "id": "47d5324d",
   "metadata": {
    "scrolled": false
   },
   "outputs": [
    {
     "name": "stdout",
     "output_type": "stream",
     "text": [
      "A sine wave, sinusoidal wave, or just sinusoid is a mathematical curve defined in terms of the sine trigonometric function, of which it is the graph.[1] It is a type of continuous wave and also a smooth periodic function.[2] It occurs often in mathematics, as well as in physics, engineering, signal processing and many other fields. \n",
      "\n"
     ]
    },
    {
     "data": {
      "image/png": "[encoded data removed]",
      "text/plain": [
       "<Figure size 600x400 with 1 Axes>"
      ]
     },
     "metadata": {},
     "output_type": "display_data"
    }
   ],
   "source": [
    "figure = output(tokens,web_url,sample_rate)\n",
    "par = scrape_website(web_url)"
   ]
  },
  {
   "cell_type": "markdown",
   "id": "1bfc920d",
   "metadata": {},
   "source": [
    "Graphical User Interface Function"
   ]
  },
  {
   "cell_type": "code",
   "execution_count": 9,
   "id": "a946a72a",
   "metadata": {},
   "outputs": [],
   "source": [
    "def gui_out(sample,tokens,figure,par):\n",
    "    sample_rate = int(sample)  # Hz\n",
    "    duration = 2.0  # seconds\n",
    "    t = np.linspace(0, duration, int(sample_rate * duration), endpoint=False)\n",
    "\n",
    "    # Generate the waves\n",
    "    frequency = 220  # Hz\n",
    "    amplitude = 0.15\n",
    "    sine_wave = amplitude * np.sin(2 * np.pi * frequency * t)\n",
    "    triangle_wave = amplitude * np.abs(np.mod(t * frequency, 1) - 0.5) * 4 - 1.0\n",
    "    sawtooth_wave = amplitude * (2 * (np.mod(t * frequency, 1) - 0.5))\n",
    "    duty_cycle = 0.1\n",
    "    square_wave = amplitude * np.sign(np.sin(2 * np.pi * frequency * t) - duty_cycle)\n",
    "\n",
    "    # Create a function to play the sound\n",
    "    def play_sound_sine():\n",
    "        sd.play(sine_wave, sample_rate)\n",
    "\n",
    "    def play_sound_square():\n",
    "        sd.play(square_wave, sample_rate)\n",
    "        \n",
    "    def play_sound_triangle():\n",
    "        sd.play(triangle_wave, sample_rate)\n",
    "        \n",
    "    def play_sound_saw():\n",
    "        sd.play(sawtooth_wave, sample_rate)\n",
    "\n",
    "    # Create the GUI window\n",
    "    window = tk.Tk()\n",
    "\n",
    "    # Create a button to play the sound\n",
    "    if tokens[0] == 'sine':\n",
    "        canvas = FigureCanvasTkAgg(figure, master=window)\n",
    "        canvas.draw()\n",
    "        canvas.get_tk_widget().pack()\n",
    "        info = tk.Label(window, text=par)\n",
    "        info.pack()\n",
    "        play_button = tk.Button(window, text=\"Play Sound\", command=play_sound_sine)\n",
    "        play_button.pack()\n",
    "        # Run the GUI event loop\n",
    "        window.mainloop()\n",
    "        \n",
    "    elif tokens[0] == 'square':\n",
    "        canvas = FigureCanvasTkAgg(figure, master=window)\n",
    "        canvas.draw()\n",
    "        canvas.get_tk_widget().pack()\n",
    "        info = tk.Label(window, text=par)\n",
    "        info.pack()\n",
    "        play_button = tk.Button(window, text=\"Play Sound\", command=play_sound_square)\n",
    "        play_button.pack()\n",
    "        # Run the GUI event loop\n",
    "        window.mainloop()\n",
    "    \n",
    "    elif tokens[0] == 'triangle':\n",
    "        canvas = FigureCanvasTkAgg(figure, master=window)\n",
    "        canvas.draw()\n",
    "        canvas.get_tk_widget().pack()\n",
    "        info = tk.Label(window, text=par)\n",
    "        info.pack()\n",
    "        play_button = tk.Button(window, text=\"Play Sound\", command=play_sound_triangle)\n",
    "        play_button.pack()\n",
    "        # Run the GUI event loop\n",
    "        window.mainloop()\n",
    "        \n",
    "    elif tokens[0] == 'sawtooth':\n",
    "        canvas = FigureCanvasTkAgg(figure, master=window)\n",
    "        canvas.draw()\n",
    "        canvas.get_tk_widget().pack()\n",
    "        info = tk.Label(window, text=par)\n",
    "        info.pack()\n",
    "        play_button = tk.Button(window, text=\"Play Sound\", command=play_sound_saw)\n",
    "        play_button.pack()\n",
    "        # Run the GUI event loop\n",
    "        window.mainloop()"
   ]
  },
  {
   "cell_type": "code",
   "execution_count": 10,
   "id": "fbf55e1b",
   "metadata": {},
   "outputs": [
    {
     "name": "stderr",
     "output_type": "stream",
     "text": [
      "Exception in Tkinter callback\n",
      "Traceback (most recent call last):\n",
      "  File \"C:\\Users\\Owner\\anaconda3\\lib\\tkinter\\__init__.py\", line 1921, in __call__\n",
      "    return self.func(*args)\n",
      "  File \"C:\\Users\\Owner\\AppData\\Local\\Temp\\ipykernel_14044\\3342197606.py\", line 17, in play_sound_sine\n",
      "    sd.play(sine_wave, sample_rate)\n",
      "  File \"C:\\Users\\Owner\\anaconda3\\lib\\site-packages\\sounddevice.py\", line 175, in play\n",
      "    ctx.start_stream(OutputStream, samplerate, ctx.output_channels,\n",
      "  File \"C:\\Users\\Owner\\anaconda3\\lib\\site-packages\\sounddevice.py\", line 2582, in start_stream\n",
      "    self.stream = StreamClass(samplerate=samplerate,\n",
      "  File \"C:\\Users\\Owner\\anaconda3\\lib\\site-packages\\sounddevice.py\", line 1494, in __init__\n",
      "    _StreamBase.__init__(self, kind='output', wrap_callback='array',\n",
      "  File \"C:\\Users\\Owner\\anaconda3\\lib\\site-packages\\sounddevice.py\", line 898, in __init__\n",
      "    _check(_lib.Pa_OpenStream(self._ptr, iparameters, oparameters,\n",
      "  File \"C:\\Users\\Owner\\anaconda3\\lib\\site-packages\\sounddevice.py\", line 2747, in _check\n",
      "    raise PortAudioError(errormsg, err)\n",
      "sounddevice.PortAudioError: Error opening OutputStream: Invalid sample rate [PaErrorCode -9997]\n"
     ]
    }
   ],
   "source": [
    "gui_out(sample_rate,tokens,figure,par)"
   ]
  }
 ],
 "metadata": {
  "kernelspec": {
   "display_name": "Python 3 (ipykernel)",
   "language": "python",
   "name": "python3"
  },
  "language_info": {
   "codemirror_mode": {
    "name": "ipython",
    "version": 3
   },
   "file_extension": ".py",
   "mimetype": "text/x-python",
   "name": "python",
   "nbconvert_exporter": "python",
   "pygments_lexer": "ipython3",
   "version": "3.10.9"
  }
 },
 "nbformat": 4,
 "nbformat_minor": 5
}
